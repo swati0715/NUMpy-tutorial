{
  "nbformat": 4,
  "nbformat_minor": 0,
  "metadata": {
    "colab": {
      "provenance": [],
      "include_colab_link": true
    },
    "kernelspec": {
      "name": "python3",
      "display_name": "Python 3"
    },
    "language_info": {
      "name": "python"
    }
  },
  "cells": [
    {
      "cell_type": "markdown",
      "metadata": {
        "id": "view-in-github",
        "colab_type": "text"
      },
      "source": [
        "<a href=\"https://colab.research.google.com/github/swati0715/NUMpy-tutorial/blob/main/Numpy_Tutorial.ipynb\" target=\"_parent\"><img src=\"https://colab.research.google.com/assets/colab-badge.svg\" alt=\"Open In Colab\"/></a>"
      ]
    },
    {
      "cell_type": "markdown",
      "source": [
        "#What is NumPy?\n",
        "\n",
        "- NumPy (Numerical Python) is a powerful library used for:\n",
        "\n",
        "- Fast numerical computations\n",
        "\n",
        "- Handling large multi-dimensional arrays\n",
        "\n",
        "- Useful in AI/ML, data analysis, and scientific computing\n",
        "\n"
      ],
      "metadata": {
        "id": "sPVqZpL_iwKw"
      }
    },
    {
      "cell_type": "code",
      "execution_count": null,
      "metadata": {
        "id": "G8wgVbHDiZ9-"
      },
      "outputs": [],
      "source": [
        "import numpy as np"
      ]
    },
    {
      "cell_type": "code",
      "source": [
        "# Create a 1D array\n",
        "a = np.array([1, 2, 3])\n",
        "print(\"1D Array:\", a)\n",
        "\n",
        "# Create a 2D array (matrix)\n",
        "b = np.array([[1, 2], [3, 4],[10,12]])\n",
        "print(\"2D Array:\\n\", b)\n"
      ],
      "metadata": {
        "colab": {
          "base_uri": "https://localhost:8080/"
        },
        "id": "QIf5sOBsii_t",
        "outputId": "aee02ae2-4eb7-40a9-db8b-5f25540b103d"
      },
      "execution_count": null,
      "outputs": [
        {
          "output_type": "stream",
          "name": "stdout",
          "text": [
            "1D Array: [1 2 3]\n",
            "2D Array:\n",
            " [[ 1  2]\n",
            " [ 3  4]\n",
            " [10 12]]\n"
          ]
        }
      ]
    },
    {
      "cell_type": "code",
      "source": [
        "print(\"Shape:\", b.shape)\n",
        "print(\"Size:\", b.size)\n",
        "print(\"Datatype:\", b.dtype)\n"
      ],
      "metadata": {
        "colab": {
          "base_uri": "https://localhost:8080/"
        },
        "id": "YtrMOMztjGJ4",
        "outputId": "f8c27f65-4525-4e5b-9087-802cd76e6a7e"
      },
      "execution_count": null,
      "outputs": [
        {
          "output_type": "stream",
          "name": "stdout",
          "text": [
            "Shape: (3, 2)\n",
            "Size: 6\n",
            "Datatype: int64\n"
          ]
        }
      ]
    },
    {
      "cell_type": "code",
      "source": [
        "zeros = np.zeros((2, 3))      # 2x3 array of zeros\n",
        "zeros\n"
      ],
      "metadata": {
        "colab": {
          "base_uri": "https://localhost:8080/"
        },
        "id": "AI7bgbaLjLwB",
        "outputId": "d8720056-8a4e-42fe-9490-56dae0fd4cef"
      },
      "execution_count": null,
      "outputs": [
        {
          "output_type": "execute_result",
          "data": {
            "text/plain": [
              "array([[0., 0., 0.],\n",
              "       [0., 0., 0.]])"
            ]
          },
          "metadata": {},
          "execution_count": 4
        }
      ]
    },
    {
      "cell_type": "code",
      "source": [
        "ones = np.ones((2, 3))\n",
        "ones"
      ],
      "metadata": {
        "colab": {
          "base_uri": "https://localhost:8080/"
        },
        "id": "k40oYMdsjQSg",
        "outputId": "f60c42f6-aa90-4d09-91fe-176f0a51c565"
      },
      "execution_count": null,
      "outputs": [
        {
          "output_type": "execute_result",
          "data": {
            "text/plain": [
              "array([[1., 1., 1.],\n",
              "       [1., 1., 1.]])"
            ]
          },
          "metadata": {},
          "execution_count": 5
        }
      ]
    },
    {
      "cell_type": "code",
      "source": [
        "randoms = np.random.rand(2, 2)\n",
        "randoms"
      ],
      "metadata": {
        "colab": {
          "base_uri": "https://localhost:8080/"
        },
        "id": "zgmtahNUjgX7",
        "outputId": "457b9842-1d4e-4dfc-b2d0-2d10fbacf1a1"
      },
      "execution_count": null,
      "outputs": [
        {
          "output_type": "execute_result",
          "data": {
            "text/plain": [
              "array([[0.61339409, 0.29657701],\n",
              "       [0.84295287, 0.91267569]])"
            ]
          },
          "metadata": {},
          "execution_count": 6
        }
      ]
    },
    {
      "cell_type": "code",
      "source": [
        "range_array = np.arange(0, 10, 2)\n",
        "range_array"
      ],
      "metadata": {
        "colab": {
          "base_uri": "https://localhost:8080/"
        },
        "id": "PvIKiZxxjla8",
        "outputId": "da72831c-2d85-4729-ecc4-bf4c186bd5d3"
      },
      "execution_count": null,
      "outputs": [
        {
          "output_type": "execute_result",
          "data": {
            "text/plain": [
              "array([0, 2, 4, 6, 8])"
            ]
          },
          "metadata": {},
          "execution_count": 7
        }
      ]
    },
    {
      "cell_type": "code",
      "source": [
        "x = np.array([1, 2, 3])\n",
        "y = np.array([4, 5, 6])\n",
        "\n",
        "print(\"Addition:\", x + y)\n",
        "print(\"Multiplication:\", x * y)\n",
        "print(\"Dot Product:\", np.dot(x, y))\n"
      ],
      "metadata": {
        "colab": {
          "base_uri": "https://localhost:8080/"
        },
        "id": "-sgDP3wAj30S",
        "outputId": "4feaf0b6-5650-43bd-a8ee-e684f0d05519"
      },
      "execution_count": null,
      "outputs": [
        {
          "output_type": "stream",
          "name": "stdout",
          "text": [
            "Addition: [5 7 9]\n",
            "Multiplication: [ 4 10 18]\n",
            "Dot Product: 32\n"
          ]
        }
      ]
    },
    {
      "cell_type": "code",
      "source": [
        "arr = np.array([10, 20, 30, 40, 50])\n",
        "\n",
        "print(arr[0])      # First element\n",
        "print(arr[1:4])    # Slice from index 1 to 3\n"
      ],
      "metadata": {
        "colab": {
          "base_uri": "https://localhost:8080/"
        },
        "id": "V4TYM24kj6w5",
        "outputId": "fa64a2fb-8708-4764-8c77-a5a13737c587"
      },
      "execution_count": null,
      "outputs": [
        {
          "output_type": "stream",
          "name": "stdout",
          "text": [
            "10\n",
            "[20 30 40]\n"
          ]
        }
      ]
    },
    {
      "cell_type": "code",
      "source": [
        "# 1D, 2D, 3D arrays\n",
        "a = np.array([1, 2, 3])\n",
        "b = np.array([[1, 2], [3, 4]])\n",
        "c = np.array([[[1], [2]], [[3], [4]]])\n",
        "\n",
        "print(\"1D:\", a)\n",
        "print(\"2D:\\n\", b)\n",
        "print(\"3D:\\n\", c)\n"
      ],
      "metadata": {
        "colab": {
          "base_uri": "https://localhost:8080/"
        },
        "id": "QzpqCnZYj_J3",
        "outputId": "0259b7d0-4a78-43f9-ded7-39b73b1bd521"
      },
      "execution_count": null,
      "outputs": [
        {
          "output_type": "stream",
          "name": "stdout",
          "text": [
            "1D: [1 2 3]\n",
            "2D:\n",
            " [[1 2]\n",
            " [3 4]]\n",
            "3D:\n",
            " [[[1]\n",
            "  [2]]\n",
            "\n",
            " [[3]\n",
            "  [4]]]\n"
          ]
        }
      ]
    },
    {
      "cell_type": "code",
      "source": [
        "np.random.randint(1, 10, (2, 3))"
      ],
      "metadata": {
        "colab": {
          "base_uri": "https://localhost:8080/"
        },
        "id": "3OZHYgdOkHFD",
        "outputId": "a22181b4-e09b-4716-ff42-48669afc684d"
      },
      "execution_count": null,
      "outputs": [
        {
          "output_type": "execute_result",
          "data": {
            "text/plain": [
              "array([[9, 4, 1],\n",
              "       [7, 7, 6]])"
            ]
          },
          "metadata": {},
          "execution_count": 11
        }
      ]
    },
    {
      "cell_type": "markdown",
      "source": [
        "Reshape & Flatten"
      ],
      "metadata": {
        "id": "--8-F8cbkiNI"
      }
    },
    {
      "cell_type": "code",
      "source": [
        "arr = np.array([[1, 2, 3], [4, 5, 6]])\n",
        "print(\"Reshape to 3x2:\\n\", arr.reshape(3, 2))\n",
        "print(\"Flatten:\", arr.flatten())\n"
      ],
      "metadata": {
        "colab": {
          "base_uri": "https://localhost:8080/"
        },
        "id": "RC0ZL6VbkNyG",
        "outputId": "5565918b-05d9-4313-de38-1dba4b0fa874"
      },
      "execution_count": null,
      "outputs": [
        {
          "output_type": "stream",
          "name": "stdout",
          "text": [
            "Reshape to 3x2:\n",
            " [[1 2]\n",
            " [3 4]\n",
            " [5 6]]\n",
            "Flatten: [1 2 3 4 5 6]\n"
          ]
        }
      ]
    },
    {
      "cell_type": "code",
      "source": [
        "a = np.array([1, 2])\n",
        "b = np.array([3, 4])\n",
        "\n",
        "print(\"Vertical Stack:\\n\", np.vstack((a, b)))\n",
        "print(\"Horizontal Stack:\\n\", np.hstack((a, b)))\n"
      ],
      "metadata": {
        "colab": {
          "base_uri": "https://localhost:8080/"
        },
        "id": "AjqFLab4klea",
        "outputId": "10f16356-b4df-44a4-b8fa-93b509b32482"
      },
      "execution_count": null,
      "outputs": [
        {
          "output_type": "stream",
          "name": "stdout",
          "text": [
            "Vertical Stack:\n",
            " [[1 2]\n",
            " [3 4]]\n",
            "Horizontal Stack:\n",
            " [1 2 3 4]\n"
          ]
        }
      ]
    },
    {
      "cell_type": "code",
      "source": [
        "arr = np.array([10, 20, 30, 40, 50])\n",
        "print(\"Greater than 30:\", arr[arr > 30])\n"
      ],
      "metadata": {
        "colab": {
          "base_uri": "https://localhost:8080/"
        },
        "id": "zY-NkTFBkuo0",
        "outputId": "fea1f516-e189-4a7e-e4aa-ca8f5f955e5d"
      },
      "execution_count": null,
      "outputs": [
        {
          "output_type": "stream",
          "name": "stdout",
          "text": [
            "Greater than 30: [40 50]\n"
          ]
        }
      ]
    },
    {
      "cell_type": "code",
      "source": [
        "##Useful NumPy Functions"
      ],
      "metadata": {
        "id": "7QsSSrHek2HS"
      },
      "execution_count": null,
      "outputs": []
    },
    {
      "cell_type": "code",
      "source": [
        "arr = np.array([[1, 2, 3], [4, 5, 6]])\n",
        "\n",
        "print(\"Sum:\", np.sum(arr))\n",
        "print(\"Max:\", np.max(arr))\n",
        "print(\"Mean:\", np.mean(arr))\n",
        "print(\"Std Dev:\", np.std(arr))\n",
        "print(\"Argmax:\", np.argmax(arr))\n"
      ],
      "metadata": {
        "colab": {
          "base_uri": "https://localhost:8080/"
        },
        "id": "v8IJd_e3k_Ve",
        "outputId": "2aeccce3-1ae8-4884-eeb2-1b6c940cb395"
      },
      "execution_count": null,
      "outputs": [
        {
          "output_type": "stream",
          "name": "stdout",
          "text": [
            "Sum: 21\n",
            "Max: 6\n",
            "Mean: 3.5\n",
            "Std Dev: 1.707825127659933\n",
            "Argmax: 5\n"
          ]
        }
      ]
    },
    {
      "cell_type": "code",
      "source": [
        "a = np.array([[1], [2], [3]])\n",
        "b = np.array([10, 20, 30])\n",
        "\n",
        "# Automatically expands shapes to match\n",
        "print(\"Broadcasted Addition:\\n\", a + b)\n"
      ],
      "metadata": {
        "colab": {
          "base_uri": "https://localhost:8080/"
        },
        "id": "2jq-6rFwlCV9",
        "outputId": "21dd67f7-3808-4d89-b829-35cfc18fe154"
      },
      "execution_count": null,
      "outputs": [
        {
          "output_type": "stream",
          "name": "stdout",
          "text": [
            "Broadcasted Addition:\n",
            " [[11 21 31]\n",
            " [12 22 32]\n",
            " [13 23 33]]\n"
          ]
        }
      ]
    },
    {
      "cell_type": "code",
      "source": [
        "# Q: Create a 3x3 matrix with values from 1 to 9 and find the sum of its diagonal\n",
        "mat = np.arange(1, 10).reshape(3, 3)\n",
        "print(\"Matrix:\\n\", mat)\n",
        "print(\"Diagonal Sum:\", np.trace(mat))\n"
      ],
      "metadata": {
        "colab": {
          "base_uri": "https://localhost:8080/"
        },
        "id": "xBhv4fvLlLMH",
        "outputId": "edd39c06-4b10-4163-fcfa-798d4eaa3521"
      },
      "execution_count": null,
      "outputs": [
        {
          "output_type": "stream",
          "name": "stdout",
          "text": [
            "Matrix:\n",
            " [[1 2 3]\n",
            " [4 5 6]\n",
            " [7 8 9]]\n",
            "Diagonal Sum: 15\n"
          ]
        }
      ]
    },
    {
      "cell_type": "markdown",
      "source": [
        "Goal of the Code\n",
        "\n",
        "We're training an Artificial Neural Network (ANN) to learn the XOR logic gate, which cannot be solved by a single-layer perceptron (because it's not linearly separable). We’ll use Keras + TensorFlow for that."
      ],
      "metadata": {
        "id": "T7f3ltISqzYA"
      }
    },
    {
      "cell_type": "code",
      "source": [
        "import tensorflow as tf\n",
        "from tensorflow.keras.models import Sequential\n",
        "from tensorflow.keras.layers import Dense"
      ],
      "metadata": {
        "id": "U7Cg9A2-lYTr"
      },
      "execution_count": null,
      "outputs": []
    },
    {
      "cell_type": "markdown",
      "source": [
        "tensorflow: The deep learning library used to build and train neural networks.\n",
        "\n",
        "Sequential: A linear stack of layers (input → hidden → output).\n",
        "\n",
        "Dense: Fully connected layer."
      ],
      "metadata": {
        "id": "1HJ4uaQfrDHb"
      }
    },
    {
      "cell_type": "code",
      "source": [
        "import numpy as np\n",
        "\n",
        "X = np.array([[0,0], [0,1], [1,0], [1,1]])  # Input data\n",
        "y = np.array([0, 1, 1, 0])                  # Output (XOR of inputs)\n"
      ],
      "metadata": {
        "id": "WaoE4A_fq6dY"
      },
      "execution_count": null,
      "outputs": []
    },
    {
      "cell_type": "markdown",
      "source": [
        "XOR Truth Table (Explained for Slide)\n",
        "XOR stands for \"Exclusive OR\".\n",
        "\n",
        "It returns 1 if exactly one of the inputs is 1.\n",
        "\n",
        "Returns 0 if both inputs are the same (either 0 and 0 or 1 and 1).\n",
        "\n",
        "You can explain like this with bullet points:\n",
        "\n",
        "✅ Input: 0, 0 → Output: 0\n",
        "✅ Input: 0, 1 → Output: 1\n",
        "✅ Input: 1, 0 → Output: 1\n",
        "✅ Input: 1, 1 → Output: 0"
      ],
      "metadata": {
        "id": "h9dc0y9MrYOy"
      }
    },
    {
      "cell_type": "code",
      "source": [
        "##Build the ANN Model\n",
        "model = Sequential() #You're using a Sequential model, meaning layers will be added one after the other."
      ],
      "metadata": {
        "id": "Vd7j33IjrJcd"
      },
      "execution_count": null,
      "outputs": []
    },
    {
      "cell_type": "code",
      "source": [
        "model.add(Dense(4, input_dim=2, activation='relu'))  # Hidden Layer\n"
      ],
      "metadata": {
        "colab": {
          "base_uri": "https://localhost:8080/"
        },
        "id": "oGAk0X29rkSG",
        "outputId": "02e9b203-eca3-4273-9885-8e220ecb3246"
      },
      "execution_count": null,
      "outputs": [
        {
          "output_type": "stream",
          "name": "stderr",
          "text": [
            "/usr/local/lib/python3.11/dist-packages/keras/src/layers/core/dense.py:87: UserWarning: Do not pass an `input_shape`/`input_dim` argument to a layer. When using Sequential models, prefer using an `Input(shape)` object as the first layer in the model instead.\n",
            "  super().__init__(activity_regularizer=activity_regularizer, **kwargs)\n"
          ]
        }
      ]
    },
    {
      "cell_type": "markdown",
      "source": [
        "Dense(4): Adds 4 neurons in the hidden layer.\n",
        "\n",
        "input_dim=2: Input has 2 features (since each XOR input is a pair).\n",
        "\n",
        "activation='relu': ReLU introduces non-linearity.\n",
        "\n",
        "Why 4 neurons? Just a small hidden layer to learn patterns. Enough for XOR, which needs at least one hidden layer."
      ],
      "metadata": {
        "id": "p1Tzg7dDruoB"
      }
    },
    {
      "cell_type": "code",
      "source": [
        "model.add(Dense(1, activation='sigmoid'))\n"
      ],
      "metadata": {
        "id": "HKssVe_urtdo"
      },
      "execution_count": null,
      "outputs": []
    },
    {
      "cell_type": "markdown",
      "source": [
        "Dense(1): Output layer has 1 neuron (since XOR gives 0 or 1).\n",
        "\n",
        "activation='sigmoid': Good for binary classification (outputs between 0 and 1)."
      ],
      "metadata": {
        "id": "RBqxhhyusMGs"
      }
    },
    {
      "cell_type": "code",
      "source": [
        "model.compile(loss='binary_crossentropy', optimizer='adam', metrics=['accuracy'])\n",
        "model.fit(X, y, epochs=500, verbose=0)\n"
      ],
      "metadata": {
        "colab": {
          "base_uri": "https://localhost:8080/"
        },
        "id": "-5R7mICXsJXM",
        "outputId": "e8a05d3f-579a-4a59-846c-c8aa84d840cf"
      },
      "execution_count": null,
      "outputs": [
        {
          "output_type": "execute_result",
          "data": {
            "text/plain": [
              "<keras.src.callbacks.history.History at 0x7f1012bd7410>"
            ]
          },
          "metadata": {},
          "execution_count": 24
        }
      ]
    },
    {
      "cell_type": "markdown",
      "source": [
        "compile() → tells the model how to learn\n",
        "\n",
        "fit() → trains the model using input and output data\n",
        "\n",
        "loss → measures error\n",
        "\n",
        "optimizer → adjusts weights\n",
        "\n",
        "metrics → tracks performance\n",
        "\n",
        "epochs → how many times to train\n",
        "\n",
        "verbose → shows training output\n"
      ],
      "metadata": {
        "id": "kNiACiPjtsdj"
      }
    }
  ]
}